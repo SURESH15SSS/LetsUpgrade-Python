{
 "metadata": {
  "language_info": {
   "codemirror_mode": {
    "name": "ipython",
    "version": 3
   },
   "file_extension": ".py",
   "mimetype": "text/x-python",
   "name": "python",
   "nbconvert_exporter": "python",
   "pygments_lexer": "ipython3",
   "version": "3.8.3-final"
  },
  "orig_nbformat": 2,
  "kernelspec": {
   "name": "python38332bitbasecondadcbdc54ba45940b3966ab8ec5bf0336f",
   "display_name": "Python 3.8.3 32-bit ('base': conda)"
  }
 },
 "nbformat": 4,
 "nbformat_minor": 2,
 "cells": [
  {
   "cell_type": "markdown",
   "metadata": {},
   "source": [
    "\n",
    "Write a decorator function for taking input for you any kindnof function you want to build"
   ]
  },
  {
   "cell_type": "code",
   "execution_count": 7,
   "metadata": {},
   "outputs": [],
   "source": [
    "\n",
    "def fibonacii(new_func):\n",
    "    def wrap_function():\n",
    "        print(\"enter two numbers\")\n",
    "        a=int(input(\"Enter your first number --\"))\n",
    "        b=int(input(\"Enter your second number --\"))\n",
    "        new_func(a,b)\n",
    "    return wrap_function"
   ]
  },
  {
   "cell_type": "code",
   "execution_count": 8,
   "metadata": {
    "tags": []
   },
   "outputs": [
    {
     "output_type": "stream",
     "name": "stdout",
     "text": "enter two numbers\n3\n5\n7\n9\n11\n13\n15\n17\n19\n"
    }
   ],
   "source": [
    "@fibonacii\n",
    "def fib_func(a,b):\n",
    "    for i in range(a,b):\n",
    "        c=i+1\n",
    "        b=i\n",
    "        a=c+b\n",
    "        print(a)\n",
    "fib_func()"
   ]
  },
  {
   "cell_type": "markdown",
   "metadata": {},
   "source": [
    "\n",
    "\n",
    "For this challenge you need to develop a python program to open a file in read only mode and try writing something to it and handle the subsequent errors using exception handling\n",
    "\n"
   ]
  },
  {
   "cell_type": "code",
   "execution_count": 11,
   "metadata": {
    "tags": []
   },
   "outputs": [
    {
     "output_type": "stream",
     "name": "stdout",
     "text": "unable to write file because it opened in read mode only\n"
    }
   ],
   "source": [
    "try :\n",
    "    file=open(\"suresh.txt\",\"r\")\n",
    "    file.write(\"Hey ,is there anyone\")\n",
    "except:\n",
    "    print(\"unable to write file because it opened in read mode only\")\n",
    "finally:\n",
    "    file.close()\n",
    "  "
   ]
  },
  {
   "cell_type": "code",
   "execution_count": null,
   "metadata": {},
   "outputs": [],
   "source": []
  }
 ]
}