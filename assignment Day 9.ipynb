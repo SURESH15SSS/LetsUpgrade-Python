{
 "metadata": {
  "language_info": {
   "codemirror_mode": {
    "name": "ipython",
    "version": 3
   },
   "file_extension": ".py",
   "mimetype": "text/x-python",
   "name": "python",
   "nbconvert_exporter": "python",
   "pygments_lexer": "ipython3",
   "version": "3.8.3-final"
  },
  "orig_nbformat": 2,
  "kernelspec": {
   "name": "python38332bitbasecondadcbdc54ba45940b3966ab8ec5bf0336f",
   "display_name": "Python 3.8.3 32-bit ('base': conda)"
  }
 },
 "nbformat": 4,
 "nbformat_minor": 2,
 "cells": [
  {
   "cell_type": "markdown",
   "metadata": {},
   "source": [
    "Write a python function for finding a given number prime or not and do unit testing on it using Pylint and Unittest Library\n",
    "\n"
   ]
  },
  {
   "cell_type": "code",
   "execution_count": 90,
   "metadata": {
    "tags": []
   },
   "outputs": [
    {
     "output_type": "stream",
     "name": "stdout",
     "text": "Overwriting new_file.py\n"
    }
   ],
   "source": [
    "%%writefile new_file.py\n",
    "'''\n",
    "it is a code for check a number prime or not\n",
    "'''\n",
    "def is_prime(number):\n",
    "    '''\n",
    "        hey here it is\n",
    "    '''\n",
    "    if number in(0, 1):\n",
    "        return False\n",
    "    for prime in range(2, number):\n",
    "        if number % prime == 0:\n",
    "            return False\n",
    "        return True"
   ]
  },
  {
   "cell_type": "code",
   "execution_count": 91,
   "metadata": {
    "tags": []
   },
   "outputs": [
    {
     "output_type": "stream",
     "name": "stdout",
     "text": "\n-------------------------------------------------------------------\n\nYour code has been rated at 10.00/10 (previous run: 8.57/10, +1.43)\n\n\n\n"
    }
   ],
   "source": [
    "! pylint new_file.py"
   ]
  },
  {
   "cell_type": "code",
   "execution_count": 92,
   "metadata": {},
   "outputs": [
    {
     "output_type": "execute_result",
     "data": {
      "text/plain": "True"
     },
     "metadata": {},
     "execution_count": 92
    }
   ],
   "source": [
    "import new_file\n",
    "new_file.is_prime(5)"
   ]
  },
  {
   "cell_type": "markdown",
   "metadata": {},
   "source": [
    "UNIT TEST"
   ]
  },
  {
   "cell_type": "code",
   "execution_count": 93,
   "metadata": {
    "tags": []
   },
   "outputs": [
    {
     "output_type": "stream",
     "name": "stdout",
     "text": "Overwriting new_file2.py\n"
    }
   ],
   "source": [
    "%%writefile new_file2.py\n",
    "'''\n",
    " here we are going to do unit testing for a pyfile\n",
    " '''\n",
    "import unittest\n",
    "import new_file\n",
    "class primenumber(unittest.TestCase):\n",
    "    def testprime(self):\n",
    "        number=5\n",
    "        result=new_file.is_prime(number)\n",
    "        self.assertEqual(result,True)\n",
    "if __name__==\"__main__\":\n",
    "    unittest.main()"
   ]
  },
  {
   "cell_type": "code",
   "execution_count": 94,
   "metadata": {
    "tags": []
   },
   "outputs": [
    {
     "output_type": "stream",
     "name": "stderr",
     "text": ".\n----------------------------------------------------------------------\nRan 1 test in 0.000s\n\nOK\n"
    }
   ],
   "source": [
    "! python new_file2.py"
   ]
  },
  {
   "cell_type": "markdown",
   "metadata": {},
   "source": [
    "\n",
    "\n",
    "Make a small generator program for returning armstrong numbers in between 1-1000 in a generator object.\n"
   ]
  },
  {
   "cell_type": "code",
   "execution_count": 1,
   "metadata": {},
   "outputs": [],
   "source": [
    "\n",
    "def getarmstrongnumberGen():\n",
    "    for item in range(1,1000):\n",
    "        if item>10:\n",
    "            order=len(str(item))\n",
    "            sum=0\n",
    "            temp=item\n",
    "            while temp>0:\n",
    "                digit=temp % 10\n",
    "                sum+=digit**order\n",
    "                temp //=10\n",
    "            if item==sum:\n",
    "                yield item\n"
   ]
  },
  {
   "cell_type": "code",
   "execution_count": 2,
   "metadata": {
    "tags": []
   },
   "outputs": [
    {
     "output_type": "stream",
     "name": "stdout",
     "text": "[153, 370, 371, 407]\n"
    }
   ],
   "source": [
    "\n",
    "print(list(getarmstrongnumberGen()))"
   ]
  },
  {
   "cell_type": "code",
   "execution_count": null,
   "metadata": {},
   "outputs": [],
   "source": []
  }
 ]
}