{
 "metadata": {
  "language_info": {
   "codemirror_mode": {
    "name": "ipython",
    "version": 3
   },
   "file_extension": ".py",
   "mimetype": "text/x-python",
   "name": "python",
   "nbconvert_exporter": "python",
   "pygments_lexer": "ipython3",
   "version": "3.8.3-final"
  },
  "orig_nbformat": 2,
  "kernelspec": {
   "name": "python38332bitbasecondadcbdc54ba45940b3966ab8ec5bf0336f",
   "display_name": "Python 3.8.3 32-bit ('base': conda)"
  }
 },
 "nbformat": 4,
 "nbformat_minor": 2,
 "cells": [
  {
   "cell_type": "markdown",
   "metadata": {},
   "source": [
    "You all are pilots,you want to land a plane safetly,so alttitude required for landing a plane is 1000ft, it is less than tell point , or it is more than that but less than 5000ft ask the pilot to come down to 1000ft, else if it more than 5000ft ask pilot to go around and try later"
   ]
  },
  {
   "cell_type": "code",
   "execution_count": 3,
   "metadata": {
    "tags": []
   },
   "outputs": [
    {
     "output_type": "stream",
     "name": "stdout",
     "text": "Bring down to 1000\n"
    }
   ],
   "source": [
    " a = input(\"enter the alttitude\")\n",
    " alttitude= int(a)\n",
    " if alttitude<1000:\n",
    "     print(\"Safe to land\")\n",
    " elif 1000<alttitude<5000:\n",
    "     print(\"Bring down to 1000\")\n",
    " else:\n",
    "     print(\"turn around\")"
   ]
  },
  {
   "cell_type": "markdown",
   "metadata": {},
   "source": [
    "\n",
    " Use for loop please print all the prime numbers between 1-200 using FOR LOOP AND RANGE function\n",
    "  "
   ]
  },
  {
   "cell_type": "code",
   "execution_count": 4,
   "metadata": {
    "tags": []
   },
   "outputs": [
    {
     "output_type": "stream",
     "name": "stdout",
     "text": "2\n3\n5\n7\n11\n13\n17\n19\n23\n29\n31\n37\n41\n43\n47\n53\n59\n61\n67\n71\n73\n79\n83\n89\n97\n101\n103\n107\n109\n113\n127\n131\n137\n139\n149\n151\n157\n163\n167\n173\n179\n181\n191\n193\n197\n199\n"
    }
   ],
   "source": [
    "for num in range(1,200):\n",
    "    if num>1:\n",
    "        for i in range(2,num):\n",
    "            if (num%i==0):\n",
    "                break\n",
    "        else:\n",
    "            print(num)\n"
   ]
  },
  {
   "cell_type": "code",
   "execution_count": null,
   "metadata": {},
   "outputs": [],
   "source": []
  }
 ]
}