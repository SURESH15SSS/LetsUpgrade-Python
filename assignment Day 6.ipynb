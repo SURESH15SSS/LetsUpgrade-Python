{
 "metadata": {
  "language_info": {
   "codemirror_mode": {
    "name": "ipython",
    "version": 3
   },
   "file_extension": ".py",
   "mimetype": "text/x-python",
   "name": "python",
   "nbconvert_exporter": "python",
   "pygments_lexer": "ipython3",
   "version": "3.8.3-final"
  },
  "orig_nbformat": 2,
  "kernelspec": {
   "name": "python38332bitbasecondadcbdc54ba45940b3966ab8ec5bf0336f",
   "display_name": "Python 3.8.3 32-bit ('base': conda)"
  }
 },
 "nbformat": 4,
 "nbformat_minor": 2,
 "cells": [
  {
   "cell_type": "markdown",
   "metadata": {},
   "source": [
    "#Create a bank account class that has two attributes and two methods\n"
   ]
  },
  {
   "cell_type": "code",
   "execution_count": 2,
   "metadata": {
    "tags": []
   },
   "outputs": [
    {
     "output_type": "stream",
     "name": "stdout",
     "text": "Hey SURESH you want to withdraw money\nThe amount you entered is  4000\nThe amount you withdrawn  4000\nThe available balance 1000\nHey SURESH you want to withdraw money\nThe amount you entered is  2000\nYou  dont have sufficient balance to withdraw money\n"
    }
   ],
   "source": [
    "class bankacc:\n",
    "    def __init__(self,owner,balance):\n",
    "        self.owner=owner\n",
    "        self.balance=balance\n",
    "    def withdraw(self):\n",
    "        print(\"Hey\",self.owner,\"you want to withdraw money\")\n",
    "        a=input(\"Enter the amount to withdraw\")\n",
    "        print(\"The amount you entered is \",a)\n",
    "        if int(a)<=self.balance:\n",
    "            print(\"The amount you withdrawn \",a)\n",
    "            c=self.balance-int(a)\n",
    "            print(\"The available balance\",c)\n",
    "            self.balance=c\n",
    "        else:\n",
    "            print(\"You  dont have sufficient balance to withdraw money\")\n",
    "    def deposit(self):\n",
    "        print(\"Hey\",self.owner,\"you want to deposit money\")\n",
    "        b=input(\"Enter amount to deposit\")\n",
    "        totalamount=self.balance+int(b)\n",
    "        print(\"Total available balance\",int(totalamount))\n",
    "        self.balance=totalamount\n",
    "\n",
    "p=bankacc(\"SURESH\",5000)\n",
    "p.withdraw()\n",
    "p.withdraw()\n"
   ]
  },
  {
   "cell_type": "markdown",
   "metadata": {},
   "source": [
    " \n",
    " \n",
    " Create a cone class that has two attributes and two methods\n"
   ]
  },
  {
   "cell_type": "code",
   "execution_count": 3,
   "metadata": {
    "tags": []
   },
   "outputs": [
    {
     "output_type": "stream",
     "name": "stdout",
     "text": "The volume of cone is  157.0\nThe surface area : side  201.12091991173446\n"
    }
   ],
   "source": [
    "import math\n",
    "class cone:\n",
    "    def __init__(self,radius,height):\n",
    "        self.radius=radius\n",
    "        self.height=height\n",
    "    def volume(self):\n",
    "        r=self.radius\n",
    "        h=self.height\n",
    "        b=h/3\n",
    "        a=3.14*r*r*b\n",
    "        print(\"The volume of cone is \",a)\n",
    "    def surfacearea(self):\n",
    "        r=self.radius\n",
    "        h=self.height\n",
    "        c=3.14*int(r*r)\n",
    "        d=math.sqrt(h*h+r*r)\n",
    "        e=3.14*r*d\n",
    "        f=c+e\n",
    "        print(\"The surface area : side \",f)\n",
    "p=cone(5,6)\n",
    "p.volume()\n",
    "p.surfacearea()"
   ]
  },
  {
   "cell_type": "code",
   "execution_count": null,
   "metadata": {},
   "outputs": [],
   "source": []
  }
 ]
}