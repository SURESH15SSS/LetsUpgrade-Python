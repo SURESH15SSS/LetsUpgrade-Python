{
 "metadata": {
  "language_info": {
   "codemirror_mode": {
    "name": "ipython",
    "version": 3
   },
   "file_extension": ".py",
   "mimetype": "text/x-python",
   "name": "python",
   "nbconvert_exporter": "python",
   "pygments_lexer": "ipython3",
   "version": "3.8.5-final"
  },
  "orig_nbformat": 2,
  "kernelspec": {
   "name": "python38532bitf69d5258c2384a74aedc162b835c0d95",
   "display_name": "Python 3.8.5 32-bit"
  }
 },
 "nbformat": 4,
 "nbformat_minor": 2,
 "cells": [
  {
   "cell_type": "markdown",
   "metadata": {},
   "source": [
    "Print the first armstrong number in range of 1042000 to 702648265 and exit the loop as soon as you encounter the first armstrong number\n",
    "\n"
   ]
  },
  {
   "cell_type": "code",
   "execution_count": 6,
   "metadata": {
    "tags": []
   },
   "outputs": [
    {
     "output_type": "stream",
     "name": "stdout",
     "text": "The first armstrong number 1741725\n"
    }
   ],
   "source": [
    "for num in range (1042000,702648265):\n",
    "    order=len(str(num))\n",
    "    sum=0\n",
    "    temp=num\n",
    "    while temp > 0 :\n",
    "        digit=temp%10\n",
    "        sum+=digit**order\n",
    "        temp//=10\n",
    "    if num==sum:\n",
    "        print(\"The first armstrong number\",num)\n",
    "        break"
   ]
  },
  {
   "cell_type": "code",
   "execution_count": null,
   "metadata": {},
   "outputs": [],
   "source": []
  }
 ]
}